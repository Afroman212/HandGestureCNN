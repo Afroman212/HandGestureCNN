{
 "cells": [
  {
   "cell_type": "code",
   "execution_count": 7,
   "metadata": {},
   "outputs": [],
   "source": [
    "import numpy as np\n",
    "import matplotlib.pylab as plt\n",
    "import seaborn as sns\n",
    "import keras as k\n",
    "import keras\n",
    "from keras.models import Sequential\n",
    "from keras.layers import Dense, Dropout, Flatten,Conv2D, MaxPooling2D\n",
    "from keras.preprocessing.image import ImageDataGenerator\n",
    "%matplotlib inline"
   ]
  },
  {
   "cell_type": "code",
   "execution_count": 2,
   "metadata": {},
   "outputs": [
    {
     "name": "stdout",
     "output_type": "stream",
     "text": [
      "Found 480 images belonging to 4 classes.\n"
     ]
    }
   ],
   "source": [
    "batch=10\n",
    "img_size=200\n",
    "\n",
    "train_datagen = ImageDataGenerator(\n",
    "        rescale=1./255,\n",
    "        shear_range=0.2,\n",
    "        zoom_range=0.3,\n",
    "        rotation_range=40)\n",
    "#train generator generates 10 images at a time\n",
    "train_generator = train_datagen.flow_from_directory(\n",
    "        'data/',  # this is the target directory\n",
    "        target_size=(200, 200),\n",
    "        batch_size=batch,\n",
    "        color_mode='grayscale',\n",
    "        class_mode='categorical',\n",
    "        save_to_dir='augmented/')"
   ]
  },
  {
   "cell_type": "code",
   "execution_count": 3,
   "metadata": {},
   "outputs": [
    {
     "name": "stdout",
     "output_type": "stream",
     "text": [
      "_________________________________________________________________\n",
      "Layer (type)                 Output Shape              Param #   \n",
      "=================================================================\n",
      "conv2d_1 (Conv2D)            (None, 198, 198, 50)      500       \n",
      "_________________________________________________________________\n",
      "conv2d_2 (Conv2D)            (None, 196, 196, 100)     45100     \n",
      "_________________________________________________________________\n",
      "max_pooling2d_1 (MaxPooling2 (None, 98, 98, 100)       0         \n",
      "_________________________________________________________________\n",
      "conv2d_3 (Conv2D)            (None, 96, 96, 100)       90100     \n",
      "_________________________________________________________________\n",
      "conv2d_4 (Conv2D)            (None, 94, 94, 200)       180200    \n",
      "_________________________________________________________________\n",
      "max_pooling2d_2 (MaxPooling2 (None, 47, 47, 200)       0         \n",
      "_________________________________________________________________\n",
      "flatten_1 (Flatten)          (None, 441800)            0         \n",
      "_________________________________________________________________\n",
      "dense_1 (Dense)              (None, 200)               88360200  \n",
      "_________________________________________________________________\n",
      "dropout_1 (Dropout)          (None, 200)               0         \n",
      "_________________________________________________________________\n",
      "dense_2 (Dense)              (None, 4)                 804       \n",
      "=================================================================\n",
      "Total params: 88,676,904\n",
      "Trainable params: 88,676,904\n",
      "Non-trainable params: 0\n",
      "_________________________________________________________________\n"
     ]
    }
   ],
   "source": [
    "model = Sequential()\n",
    "model.add(Conv2D(50, (3, 3), input_shape=(200, 200,1),activation='relu'))\n",
    "model.add(Conv2D(100, (3, 3),activation='relu'))\n",
    "model.add(MaxPooling2D(pool_size=(2, 2)))\n",
    "\n",
    "model.add(Conv2D(100, (3, 3),activation='relu'))\n",
    "model.add(Conv2D(200, (3, 3),activation='relu'))\n",
    "model.add(MaxPooling2D(pool_size=(2, 2)))\n",
    "model.add(Flatten())  # this converts our 3D feature maps to 1D feature vectors\n",
    "model.add(Dense(200,activation='relu'))\n",
    "model.add(Dropout(0.5))\n",
    "model.add(Dense(4,activation='sigmoid'))\n",
    "\n",
    "model.compile(loss=keras.losses.categorical_crossentropy,\n",
    "              optimizer=keras.optimizers.Adadelta(),\n",
    "              metrics=['accuracy'])\n",
    "model.summary()"
   ]
  },
  {
   "cell_type": "code",
   "execution_count": 4,
   "metadata": {
    "collapsed": true
   },
   "outputs": [],
   "source": [
    "total=200\n",
    "val_total=total*0.2\n",
    "graph=keras.callbacks.TensorBoard(log_dir='./graph', histogram_freq=1,\n",
    "                            write_graph=True, write_images=True)"
   ]
  },
  {
   "cell_type": "code",
   "execution_count": 6,
   "metadata": {},
   "outputs": [
    {
     "name": "stdout",
     "output_type": "stream",
     "text": [
      "Epoch 1/10\n",
      "200/200 [==============================] - 2360s - loss: 0.8554 - acc: 0.6630 - val_loss: 0.5946 - val_acc: 0.7925\n",
      "Epoch 2/10\n",
      "200/200 [==============================] - 2283s - loss: 0.6027 - acc: 0.7880 - val_loss: 0.3930 - val_acc: 0.8750\n",
      "Epoch 3/10\n",
      "200/200 [==============================] - 2114s - loss: 0.4437 - acc: 0.8515 - val_loss: 0.2429 - val_acc: 0.9100\n",
      "Epoch 4/10\n",
      "200/200 [==============================] - 2116s - loss: 0.3550 - acc: 0.8895 - val_loss: 0.2145 - val_acc: 0.9250\n",
      "Epoch 5/10\n",
      "200/200 [==============================] - 2104s - loss: 0.3028 - acc: 0.9075 - val_loss: 0.1611 - val_acc: 0.9475\n",
      "Epoch 6/10\n",
      "200/200 [==============================] - 2103s - loss: 0.2221 - acc: 0.9275 - val_loss: 0.0838 - val_acc: 0.9700\n",
      "Epoch 7/10\n",
      "200/200 [==============================] - 2105s - loss: 0.2098 - acc: 0.9305 - val_loss: 0.0716 - val_acc: 0.9750\n",
      "Epoch 8/10\n",
      "200/200 [==============================] - 2100s - loss: 0.1628 - acc: 0.9495 - val_loss: 0.0915 - val_acc: 0.9700\n",
      "Epoch 9/10\n",
      "200/200 [==============================] - 2100s - loss: 0.1420 - acc: 0.9560 - val_loss: 0.1679 - val_acc: 0.9500\n",
      "Epoch 10/10\n",
      "200/200 [==============================] - 2096s - loss: 0.1171 - acc: 0.9620 - val_loss: 0.0517 - val_acc: 0.9875\n"
     ]
    }
   ],
   "source": [
    "#steps per epoch, how many times to generate images i.e 200 steps of 10 batches\n",
    "h=model.fit_generator(\n",
    "        train_generator,\n",
    "        steps_per_epoch=total,\n",
    "        epochs=10,\n",
    "        validation_data=train_generator,\n",
    "        validation_steps=val_total,callbacks=[graph])\n",
    "model.save('gesturecnn.h5')"
   ]
  },
  {
   "cell_type": "code",
   "execution_count": 10,
   "metadata": {},
   "outputs": [
    {
     "data": {
      "text/plain": [
       "<matplotlib.legend.Legend at 0x7fae15eddfd0>"
      ]
     },
     "execution_count": 10,
     "metadata": {},
     "output_type": "execute_result"
    },
    {
     "data": {
      "image/png": "[encoded data removed]",
      "text/plain": [
       "<matplotlib.figure.Figure at 0x7faefc148470>"
      ]
     },
     "metadata": {},
     "output_type": "display_data"
    }
   ],
   "source": [
    "# summarize history for accuracy\n",
    "plt.plot(h.history['acc'])\n",
    "plt.plot(h.history['val_acc'])\n",
    "plt.title('model accuracy')\n",
    "plt.ylabel('accuracy')\n",
    "plt.xlabel('epoch')\n",
    "plt.legend(['train', 'test'], loc='upper left')"
   ]
  },
  {
   "cell_type": "code",
   "execution_count": 11,
   "metadata": {},
   "outputs": [
    {
     "data": {
      "text/plain": [
       "<matplotlib.legend.Legend at 0x7fae15e54518>"
      ]
     },
     "execution_count": 11,
     "metadata": {},
     "output_type": "execute_result"
    },
    {
     "data": {
      "image/png": "[encoded data removed]",
      "text/plain": [
       "<matplotlib.figure.Figure at 0x7fae15f34d30>"
      ]
     },
     "metadata": {},
     "output_type": "display_data"
    }
   ],
   "source": [
    "# summarize history for loss\n",
    "plt.plot(h.history['loss'])\n",
    "plt.plot(h.history['val_loss'])\n",
    "plt.title('model loss')\n",
    "plt.ylabel('loss')\n",
    "plt.xlabel('epoch')\n",
    "plt.legend(['train', 'test'], loc='upper left')"
   ]
  },
  {
   "cell_type": "code",
   "execution_count": null,
   "metadata": {
    "collapsed": true
   },
   "outputs": [],
   "source": []
  }
 ],
 "metadata": {
  "kernelspec": {
   "display_name": "Python 3",
   "language": "python",
   "name": "python3"
  },
  "language_info": {
   "codemirror_mode": {
    "name": "ipython",
    "version": 3
   },
   "file_extension": ".py",
   "mimetype": "text/x-python",
   "name": "python",
   "nbconvert_exporter": "python",
   "pygments_lexer": "ipython3",
   "version": "3.5.2"
  }
 },
 "nbformat": 4,
 "nbformat_minor": 2
}
